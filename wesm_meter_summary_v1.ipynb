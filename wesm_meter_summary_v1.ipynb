{
 "cells": [
  {
   "cell_type": "code",
   "execution_count": null,
   "id": "7ed1ded1-7890-4981-bc6e-6d3c57f670b8",
   "metadata": {},
   "outputs": [],
   "source": [
    "#this script creates csv files from WESM monthly meter data files which are excel and are badly summarized\n",
    "import pandas as pd\n",
    "from glob import glob"
   ]
  },
  {
   "cell_type": "code",
   "execution_count": null,
   "id": "6ef4b23c-3991-473d-b395-f508f9e8dbd8",
   "metadata": {},
   "outputs": [],
   "source": [
    "print('WESM meter montlhy summary prepared by gpureta github: https://github.com/gpureta/WESM-TRADING-SCRIPTShttps://github.com/gpureta/WESM-TRADING-SCRIPTS')\n",
    "print('Please copy metering files in the same folder as executable script')\n",
    "print('Note: SSLA is only \"Line Loss\" column')"
   ]
  },
  {
   "cell_type": "code",
   "execution_count": null,
   "id": "90b9c061-9fc3-4abe-ab96-fcdaef8a2529",
   "metadata": {},
   "outputs": [],
   "source": [
    "#user input the type of interval if hourly or 5min or both\n",
    "intervalcheck = 0\n",
    "while (intervalcheck not in [\"f\",\"h\",\"b\"]):\n",
    "    print('Enter \"f\" for five-minute interval summary. Enter \"h\" for hourly interval summary. Enter \"b\" for both.')\n",
    "    interval = input()\n",
    "    intervalcheck = interval"
   ]
  },
  {
   "cell_type": "code",
   "execution_count": null,
   "id": "fee6a08f-efc7-42e1-b55e-d686195cb6ab",
   "metadata": {},
   "outputs": [],
   "source": [
    "print(\"running script... press [ctrl + c] to abort\")"
   ]
  },
  {
   "cell_type": "code",
   "execution_count": null,
   "id": "5630a753-f4e2-43dc-bf11-13c9d4dedae8",
   "metadata": {},
   "outputs": [],
   "source": [
    "# create list of all xlsx files\n",
    "meter_files = sorted(glob('*MonthlyMQ.xlsx'))\n",
    "meter_files"
   ]
  },
  {
   "cell_type": "code",
   "execution_count": null,
   "id": "989ab249-a829-4ab9-be03-1a104c6242a8",
   "metadata": {},
   "outputs": [],
   "source": [
    "#get sheet names\n",
    "sheetnames = pd.ExcelFile(meter_files[0]).sheet_names"
   ]
  },
  {
   "cell_type": "code",
   "execution_count": null,
   "id": "4fcdb6e2-1422-4cca-b0ea-cb227601d767",
   "metadata": {},
   "outputs": [],
   "source": [
    "#output csv file columns\n",
    "column_names = [\"date\",\"date2\",\"interval\"] + sheetnames"
   ]
  },
  {
   "cell_type": "code",
   "execution_count": null,
   "id": "48b60028-3e1e-4f48-9470-28e53dba8448",
   "metadata": {},
   "outputs": [],
   "source": [
    "#script for 5min interval\n",
    "if interval in [\"f\",\"b\"]:\n",
    "    #creating new dataframes\n",
    "    RAW = pd.DataFrame(columns = column_names)\n",
    "    SSLA = pd.DataFrame(columns = column_names)\n",
    "    ADJUSTED = pd.DataFrame(columns = column_names)\n",
    "    CAPTIVE = pd.DataFrame(columns = column_names)\n",
    "\n",
    "    RAW2 = pd.DataFrame(columns = column_names)\n",
    "    SSLA2 = pd.DataFrame(columns = column_names)\n",
    "    ADJUSTED2 = pd.DataFrame(columns = column_names)\n",
    "    CAPTIVE2 = pd.DataFrame(columns = column_names)\n",
    "    name = '5min'\n",
    "    x = len(pd.ExcelFile(meter_files[0]).sheet_names)\n",
    "    for day in meter_files:\n",
    "\n",
    "   \n",
    "        RAW[\"interval\"] = pd.date_range(start=\"00:00:00\",end=\"23:55:00\", freq='5min').strftime('%H:%M:%S').tolist()\n",
    "        RAW[\"date\"] = pd.read_excel(day, sheet_name =sheetnames[0]).iloc[0,1]\n",
    "        RAW[\"date2\"] = day.split('_')[1]\n",
    "        ADJUSTED[\"interval\"] = RAW[\"interval\"].copy()\n",
    "        ADJUSTED[\"date\"] = RAW[\"date\"].copy()\n",
    "        ADJUSTED[\"date2\"] = RAW[\"date2\"].copy()\n",
    "        SSLA[\"interval\"] = RAW[\"interval\"].copy()\n",
    "        SSLA[\"date\"] = RAW[\"date\"].copy()\n",
    "        SSLA[\"date2\"] = RAW[\"date2\"].copy()\n",
    "        CAPTIVE[\"interval\"] = RAW[\"interval\"].copy()\n",
    "        CAPTIVE[\"date\"] = RAW[\"date\"].copy()\n",
    "        CAPTIVE[\"date2\"] = RAW[\"date2\"].copy()\n",
    "        for sheet in sheetnames:\n",
    "\n",
    "            RAW[sheet] = pd.read_excel(day, skiprows = 11, sheet_name =sheet).iloc[:, 1::6].values.reshape(288)\n",
    "            ADJUSTED[sheet] = pd.read_excel(day, skiprows = 11, sheet_name =sheet).iloc[:, 2::6].values.reshape(288)\n",
    "            SSLA[sheet] = pd.read_excel(day, skiprows = 11, sheet_name =sheet).iloc[:, 3::6].values.reshape(288)\n",
    "            CAPTIVE[sheet]=pd.read_excel(day, skiprows = 11, sheet_name =sheet).iloc[:, 6::6].values.reshape(288)\n",
    "        RAW2= RAW2.append(RAW)\n",
    "        SSLA2 = SSLA2.append(SSLA)\n",
    "        ADJUSTED2 =ADJUSTED2.append(ADJUSTED)\n",
    "        CAPTIVE2 = CAPTIVE2.append(CAPTIVE)\n",
    "\n",
    "        print(day,\":\",len(pd.ExcelFile(day).sheet_names))\n",
    "        if x!= len(pd.ExcelFile(day).sheet_names):\n",
    "                   print(\"WARNING: Variable meter numbers. Check for line switching.\")\n",
    "        x= len(pd.ExcelFile(day).sheet_names)\n",
    "        \n",
    "    RAW2.to_csv('RAW'+'_'+RAW2.iloc[0,1]+'_'+RAW2.iloc[-1,1]+'_'+name+'.csv')\n",
    "    SSLA2.to_csv('SSLA'+'_'+RAW2.iloc[0,1]+'_'+RAW2.iloc[-1,1]+'_'+name+'.csv')\n",
    "    ADJUSTED2.to_csv('ADJUSTED'+'_'+RAW2.iloc[0,1]+'_'+RAW2.iloc[-1,1]+'_'+name+'.csv')\n",
    "    CAPTIVE2.to_csv('CAPTIVE'+'_'+RAW2.iloc[0,1]+'_'+RAW2.iloc[-1,1]+'_'+name+'.csv')"
   ]
  },
  {
   "cell_type": "code",
   "execution_count": null,
   "id": "93730495-2139-49de-9552-97ffa1a3e3a7",
   "metadata": {},
   "outputs": [],
   "source": [
    "#script for hourly interval\n",
    "if interval in [\"h\",\"b\"]:\n",
    "    #creating new dataframes\n",
    "    RAW = pd.DataFrame(columns = column_names)\n",
    "    SSLA = pd.DataFrame(columns = column_names)\n",
    "    ADJUSTED = pd.DataFrame(columns = column_names)\n",
    "    CAPTIVE = pd.DataFrame(columns = column_names)\n",
    "\n",
    "    RAW2 = pd.DataFrame(columns = column_names)\n",
    "    SSLA2 = pd.DataFrame(columns = column_names)\n",
    "    ADJUSTED2 = pd.DataFrame(columns = column_names)\n",
    "    CAPTIVE2 = pd.DataFrame(columns = column_names)\n",
    "    name = 'hourly'\n",
    "    x = len(pd.ExcelFile(meter_files[0]).sheet_names)\n",
    "    for day in meter_files:\n",
    "\n",
    "\n",
    "        RAW[\"interval\"] = hour = list(range(1,25))\n",
    "        RAW[\"date\"] = pd.read_excel(day, sheet_name =sheetnames[0]).iloc[0,1]\n",
    "        RAW[\"date2\"] = day.split('_')[1]\n",
    "        ADJUSTED[\"interval\"] = RAW[\"interval\"].copy()\n",
    "        ADJUSTED[\"date\"] = RAW[\"date\"].copy()\n",
    "        ADJUSTED[\"date2\"] = RAW[\"date2\"].copy()\n",
    "        SSLA[\"interval\"] = RAW[\"interval\"].copy()\n",
    "        SSLA[\"date\"] = RAW[\"date\"].copy()\n",
    "        SSLA[\"date2\"] = RAW[\"date2\"].copy()\n",
    "        CAPTIVE[\"interval\"] = RAW[\"interval\"].copy()\n",
    "        CAPTIVE[\"date\"] = RAW[\"date\"].copy()\n",
    "        CAPTIVE[\"date2\"] = RAW[\"date2\"].copy()\n",
    "        for sheet in sheetnames:\n",
    "\n",
    "            RAW[sheet] = pd.read_excel(day, skiprows = 11, sheet_name =sheet).iloc[:, 1::6].values.sum(axis= 1)\n",
    "            ADJUSTED[sheet] = pd.read_excel(day, skiprows = 11, sheet_name =sheet).iloc[:, 2::6].values.sum(axis= 1)\n",
    "            SSLA[sheet] = pd.read_excel(day, skiprows = 11, sheet_name =sheet).iloc[:, 3::6].values.sum(axis= 1)\n",
    "            CAPTIVE[sheet]=pd.read_excel(day, skiprows = 11, sheet_name =sheet).iloc[:, 6::6].values.sum(axis= 1)\n",
    "        RAW2= RAW2.append(RAW)\n",
    "        SSLA2 = SSLA2.append(SSLA)\n",
    "        ADJUSTED2 =ADJUSTED2.append(ADJUSTED)\n",
    "        CAPTIVE2 = CAPTIVE2.append(CAPTIVE)\n",
    "\n",
    "        print(day,\":\",len(pd.ExcelFile(day).sheet_names))\n",
    "        if x!= len(pd.ExcelFile(day).sheet_names):\n",
    "                   print(\"WARNING: Variable meter numbers. Check for line switching.\")\n",
    "        x= len(pd.ExcelFile(day).sheet_names)\n",
    "        \n",
    "    RAW2.to_csv('RAW'+'_'+RAW2.iloc[0,1]+'_'+RAW2.iloc[-1,1]+'_'+name+'.csv')\n",
    "    SSLA2.to_csv('SSLA'+'_'+RAW2.iloc[0,1]+'_'+RAW2.iloc[-1,1]+'_'+name+'.csv')\n",
    "    ADJUSTED2.to_csv('ADJUSTED'+'_'+RAW2.iloc[0,1]+'_'+RAW2.iloc[-1,1]+'_'+name+'.csv')\n",
    "    CAPTIVE2.to_csv('CAPTIVE'+'_'+RAW2.iloc[0,1]+'_'+RAW2.iloc[-1,1]+'_'+name+'.csv')"
   ]
  },
  {
   "cell_type": "code",
   "execution_count": null,
   "id": "91ab3484-f78e-4441-9f85-2a4bc6f5da5f",
   "metadata": {},
   "outputs": [],
   "source": [
    "print(\"csv files created. enter any key to end script\")\n",
    "z = input()"
   ]
  }
 ],
 "metadata": {
  "kernelspec": {
   "display_name": "Python 3",
   "language": "python",
   "name": "python3"
  },
  "language_info": {
   "codemirror_mode": {
    "name": "ipython",
    "version": 3
   },
   "file_extension": ".py",
   "mimetype": "text/x-python",
   "name": "python",
   "nbconvert_exporter": "python",
   "pygments_lexer": "ipython3",
   "version": "3.8.8"
  }
 },
 "nbformat": 4,
 "nbformat_minor": 5
}
